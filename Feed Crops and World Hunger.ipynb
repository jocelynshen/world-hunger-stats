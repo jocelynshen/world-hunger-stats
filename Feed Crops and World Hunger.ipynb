{
 "cells": [
  {
   "cell_type": "code",
   "execution_count": 2,
   "metadata": {},
   "outputs": [],
   "source": [
    "from itertools import combinations, chain\n",
    "import numpy as np\n",
    "import scipy\n",
    "import matplotlib.pyplot as plt\n",
    "import pandas as pd\n",
    "import seaborn as sns\n",
    "from sklearn.linear_model import LinearRegression, LogisticRegression\n",
    "from sklearn.metrics import accuracy_score, confusion_matrix, r2_score\n",
    "from sklearn.svm import SVC\n",
    "from scipy.stats import linregress\n",
    "from sklearn.datasets import load_digits\n",
    "from sklearn.datasets.samples_generator import make_blobs, make_moons, make_circles\n",
    "from sklearn.metrics import accuracy_score, confusion_matrix\n",
    "from sklearn.decomposition import PCA\n",
    "from scipy import stats\n",
    "from scipy.optimize import curve_fit\n",
    "from matplotlib import pylab\n",
    "import cufflinks as cf\n",
    "import plotly.plotly as py\n",
    "import plotly.graph_objs as go\n",
    "%matplotlib inline\n",
    "plt.style.use(\"fivethirtyeight\")"
   ]
  },
  {
   "cell_type": "code",
   "execution_count": 24,
   "metadata": {
    "scrolled": true
   },
   "outputs": [
    {
     "data": {
      "text/html": [
       "<div>\n",
       "<table border=\"1\" class=\"dataframe\">\n",
       "  <thead>\n",
       "    <tr style=\"text-align: right;\">\n",
       "      <th></th>\n",
       "      <th>Country</th>\n",
       "      <th>Proportion of Undernourished in the Population (%)</th>\n",
       "      <th>Prevalence of Underweight in Children Under 5 Years</th>\n",
       "      <th>Under 5 Mortality Rate</th>\n",
       "      <th>2014 GHI</th>\n",
       "      <th>Maize import quantity (tonnes)</th>\n",
       "      <th>Rice import quantity (tonnes)</th>\n",
       "      <th>Potato import quantity (tonnes)</th>\n",
       "      <th>Wheat import quantity (tonnes)</th>\n",
       "      <th>1990 GHI</th>\n",
       "      <th>1995 GHI</th>\n",
       "      <th>2000 GHI</th>\n",
       "      <th>2005 GHI</th>\n",
       "      <th>2013 GHI</th>\n",
       "      <th>2015 GHI</th>\n",
       "      <th>2016 GHI</th>\n",
       "    </tr>\n",
       "  </thead>\n",
       "  <tbody>\n",
       "    <tr>\n",
       "      <th>1</th>\n",
       "      <td>Albania</td>\n",
       "      <td>7.8</td>\n",
       "      <td>6.3</td>\n",
       "      <td>1.7</td>\n",
       "      <td>5.3</td>\n",
       "      <td>64685.0</td>\n",
       "      <td>21721.0</td>\n",
       "      <td>18113.0</td>\n",
       "      <td>254225.0</td>\n",
       "      <td>9.2</td>\n",
       "      <td>6.0</td>\n",
       "      <td>7.8</td>\n",
       "      <td>6.1</td>\n",
       "      <td>5.2</td>\n",
       "      <td>13.2</td>\n",
       "      <td>11.9</td>\n",
       "    </tr>\n",
       "    <tr>\n",
       "      <th>2</th>\n",
       "      <td>Algeria</td>\n",
       "      <td>2.4</td>\n",
       "      <td>3.6</td>\n",
       "      <td>2.0</td>\n",
       "      <td>0.0</td>\n",
       "      <td>3218998.0</td>\n",
       "      <td>120853.0</td>\n",
       "      <td>136802.0</td>\n",
       "      <td>6304734.0</td>\n",
       "      <td>7.0</td>\n",
       "      <td>7.7</td>\n",
       "      <td>5.3</td>\n",
       "      <td>0.0</td>\n",
       "      <td>0.0</td>\n",
       "      <td>8.7</td>\n",
       "      <td>8.7</td>\n",
       "    </tr>\n",
       "    <tr>\n",
       "      <th>3</th>\n",
       "      <td>Angola</td>\n",
       "      <td>24.4</td>\n",
       "      <td>11.3</td>\n",
       "      <td>16.4</td>\n",
       "      <td>17.4</td>\n",
       "      <td>37502.0</td>\n",
       "      <td>430625.0</td>\n",
       "      <td>37652.0</td>\n",
       "      <td>11.0</td>\n",
       "      <td>39.5</td>\n",
       "      <td>38.5</td>\n",
       "      <td>31.6</td>\n",
       "      <td>22.7</td>\n",
       "      <td>19.1</td>\n",
       "      <td>32.6</td>\n",
       "      <td>32.8</td>\n",
       "    </tr>\n",
       "    <tr>\n",
       "      <th>4</th>\n",
       "      <td>Argentina</td>\n",
       "      <td>3.4</td>\n",
       "      <td>2.3</td>\n",
       "      <td>1.4</td>\n",
       "      <td>0.0</td>\n",
       "      <td>2857.0</td>\n",
       "      <td>5656.0</td>\n",
       "      <td>738.0</td>\n",
       "      <td>151.0</td>\n",
       "      <td>0.0</td>\n",
       "      <td>0.0</td>\n",
       "      <td>0.0</td>\n",
       "      <td>0.0</td>\n",
       "      <td>0.0</td>\n",
       "      <td>0.0</td>\n",
       "      <td>0.0</td>\n",
       "    </tr>\n",
       "    <tr>\n",
       "      <th>8</th>\n",
       "      <td>Bangladesh</td>\n",
       "      <td>16.3</td>\n",
       "      <td>36.8</td>\n",
       "      <td>4.1</td>\n",
       "      <td>19.1</td>\n",
       "      <td>446397.0</td>\n",
       "      <td>260256.0</td>\n",
       "      <td>1340.0</td>\n",
       "      <td>3376956.0</td>\n",
       "      <td>36.7</td>\n",
       "      <td>35.1</td>\n",
       "      <td>24.0</td>\n",
       "      <td>20.2</td>\n",
       "      <td>19.4</td>\n",
       "      <td>27.3</td>\n",
       "      <td>27.1</td>\n",
       "    </tr>\n",
       "  </tbody>\n",
       "</table>\n",
       "</div>"
      ],
      "text/plain": [
       "      Country  Proportion of Undernourished in the Population (%)  \\\n",
       "1     Albania                                                7.8    \n",
       "2     Algeria                                                2.4    \n",
       "3      Angola                                               24.4    \n",
       "4   Argentina                                                3.4    \n",
       "8  Bangladesh                                               16.3    \n",
       "\n",
       "   Prevalence of Underweight in Children Under 5 Years  \\\n",
       "1                                                6.3     \n",
       "2                                                3.6     \n",
       "3                                               11.3     \n",
       "4                                                2.3     \n",
       "8                                               36.8     \n",
       "\n",
       "   Under 5 Mortality Rate  2014 GHI  Maize import quantity (tonnes)  \\\n",
       "1                     1.7       5.3                         64685.0   \n",
       "2                     2.0       0.0                       3218998.0   \n",
       "3                    16.4      17.4                         37502.0   \n",
       "4                     1.4       0.0                          2857.0   \n",
       "8                     4.1      19.1                        446397.0   \n",
       "\n",
       "   Rice import quantity (tonnes)  Potato import quantity (tonnes)  \\\n",
       "1                        21721.0                          18113.0   \n",
       "2                       120853.0                         136802.0   \n",
       "3                       430625.0                          37652.0   \n",
       "4                         5656.0                            738.0   \n",
       "8                       260256.0                           1340.0   \n",
       "\n",
       "   Wheat import quantity (tonnes)  1990 GHI  1995 GHI  2000 GHI  2005 GHI  \\\n",
       "1                        254225.0       9.2       6.0       7.8       6.1   \n",
       "2                       6304734.0       7.0       7.7       5.3       0.0   \n",
       "3                            11.0      39.5      38.5      31.6      22.7   \n",
       "4                           151.0       0.0       0.0       0.0       0.0   \n",
       "8                       3376956.0      36.7      35.1      24.0      20.2   \n",
       "\n",
       "   2013 GHI  2015 GHI  2016 GHI  \n",
       "1       5.2      13.2      11.9  \n",
       "2       0.0       8.7       8.7  \n",
       "3      19.1      32.6      32.8  \n",
       "4       0.0       0.0       0.0  \n",
       "8      19.4      27.3      27.1  "
      ]
     },
     "execution_count": 24,
     "metadata": {},
     "output_type": "execute_result"
    }
   ],
   "source": [
    "df = pd.read_csv(\"World_Hunger1.csv\")\n",
    "df = df.drop(['Unnamed: 16', 'Unnamed: 17'], axis = 1)\n",
    "df = df.dropna(axis = 0)\n",
    "df = df.replace(to_replace = \"<5\", value = 0)\n",
    "df[\"2014 GHI\"] = df[\"2014 GHI\"].astype(float)\n",
    "df[\"1990 GHI\"] = df[\"1990 GHI\"].astype(float)\n",
    "df[\"1995 GHI\"] = df[\"1995 GHI\"].astype(float)\n",
    "df[\"2000 GHI\"] = df[\"2000 GHI\"].astype(float)\n",
    "df[\"2005 GHI\"] = df[\"2005 GHI\"].astype(float)\n",
    "df[\"2013 GHI\"] = df[\"2013 GHI\"].astype(float)\n",
    "df[\"2015 GHI\"] = df[\"2015 GHI\"].astype(float)\n",
    "df[\"2016 GHI\"] = df[\"2016 GHI\"].astype(float)\n",
    "df.head()"
   ]
  },
  {
   "cell_type": "code",
   "execution_count": 37,
   "metadata": {},
   "outputs": [
    {
     "name": "stdout",
     "output_type": "stream",
     "text": [
      "11\n"
     ]
    }
   ],
   "source": [
    "extreme_ghi = []\n",
    "for ghi in df[\"2014 GHI\"]:\n",
    "    if(ghi>=20):\n",
    "        extreme_ghi.append(ghi)\n",
    "print(len(extreme_ghi))"
   ]
  },
  {
   "cell_type": "code",
   "execution_count": 38,
   "metadata": {
    "collapsed": true
   },
   "outputs": [],
   "source": [
    "df.to_csv(\"World_Hunger_filtered.csv\")"
   ]
  },
  {
   "cell_type": "code",
   "execution_count": 31,
   "metadata": {
    "scrolled": true
   },
   "outputs": [
    {
     "data": {
      "image/png": "[encoded data removed]",
      "text/plain": [
       "<matplotlib.figure.Figure at 0x21ccbe43710>"
      ]
     },
     "metadata": {},
     "output_type": "display_data"
    }
   ],
   "source": [
    "counts, start, dx, _ = scipy.stats.cumfreq(df[\"Proportion of Undernourished in the Population (%)\"], numbins=20)\n",
    "x = np.arange(counts.size) * dx + start\n",
    "\n",
    "plt.plot(x, counts, 'ro')\n",
    "plt.xlabel('Value')\n",
    "plt.ylabel('Cumulative Frequency')\n",
    "\n",
    "plt.show()"
   ]
  },
  {
   "cell_type": "markdown",
   "metadata": {},
   "source": [
    "# Global Hunger Index Metrics"
   ]
  },
  {
   "cell_type": "code",
   "execution_count": 39,
   "metadata": {},
   "outputs": [
    {
     "data": {
      "text/html": [
       "<iframe id=\"igraph\" scrolling=\"no\" style=\"border:none;\" seamless=\"seamless\" src=\"https://plot.ly/~jshen1/256.embed\" height=\"525px\" width=\"100%\"></iframe>"
      ],
      "text/plain": [
       "<plotly.tools.PlotlyDisplay object>"
      ]
     },
     "execution_count": 39,
     "metadata": {},
     "output_type": "execute_result"
    }
   ],
   "source": [
    "trace3 = go.Histogram(\n",
    "    x=df[\"Under 5 Mortality Rate\"],\n",
    "    name='Under 5 Mortality Rate',\n",
    "    xbins=dict(\n",
    "        start=-3.0,\n",
    "        end=70,\n",
    "        size=2\n",
    "    ),\n",
    "    marker=dict(\n",
    "        color='#002f7c'\n",
    "    ),\n",
    "    opacity=1\n",
    ")\n",
    "trace2 = go.Histogram(\n",
    "    x=df[\"Proportion of Undernourished in the Population (%)\"],\n",
    "    name='Proportion of Undernourished in the Population (%)',\n",
    "    xbins=dict(\n",
    "        start=-3.0,\n",
    "        end=70,\n",
    "        size=2\n",
    "    ),\n",
    "    marker=dict(\n",
    "        color='#5995f7'\n",
    "    ),\n",
    "    opacity=1\n",
    ")\n",
    "trace1 = go.Histogram(\n",
    "    x=df[\"Prevalence of Underweight in Children Under 5 Years\"],\n",
    "    name='Prevalence of Underweight in Children Under 5 Years',\n",
    "    xbins=dict(\n",
    "        start=-3.0,\n",
    "        end=70,\n",
    "        size=2\n",
    "    ),\n",
    "    marker=dict(\n",
    "        color='#bed3f4'\n",
    "    ),\n",
    "    opacity=1\n",
    ")\n",
    "\n",
    "data = [trace1, trace2, trace3]\n",
    "layout = go.Layout(\n",
    "    barmode='overlay',\n",
    "    bargap=0.1,\n",
    "    title = \"Frequency of the Global Hunger Index Metrics\",\n",
    "     xaxis=dict(\n",
    "        title='Metrics of the Global Hunger Index'\n",
    "    ),\n",
    "    yaxis=dict(\n",
    "        title='Frequency'\n",
    "    )\n",
    ")\n",
    "fig = go.Figure(data=data, layout=layout)\n",
    "\n",
    "py.iplot(fig)"
   ]
  },
  {
   "cell_type": "markdown",
   "metadata": {},
   "source": [
    "# Feed Crops"
   ]
  },
  {
   "cell_type": "code",
   "execution_count": 41,
   "metadata": {},
   "outputs": [
    {
     "data": {
      "text/html": [
       "<iframe id=\"igraph\" scrolling=\"no\" style=\"border:none;\" seamless=\"seamless\" src=\"https://plot.ly/~jshen1/240.embed\" height=\"525px\" width=\"100%\"></iframe>"
      ],
      "text/plain": [
       "<plotly.tools.PlotlyDisplay object>"
      ]
     },
     "execution_count": 41,
     "metadata": {},
     "output_type": "execute_result"
    }
   ],
   "source": [
    "trace3 = go.Histogram(\n",
    "    x=df[\"Maize import quantity (tonnes)\"],\n",
    "    name='Maize import quantity (tonnes)',\n",
    "    xbins=dict(\n",
    "        start=-3.0,\n",
    "        end=10288434.0/2,\n",
    "        size=400000\n",
    "    ),\n",
    "    marker=dict(\n",
    "        color='#2d4201'\n",
    "    ),\n",
    "    opacity=1\n",
    ")\n",
    "trace2 = go.Histogram(\n",
    "    x=df[\"Wheat import quantity (tonnes)\"],\n",
    "    name='Wheat import quantity (tonnes)',\n",
    "    xbins=dict(\n",
    "        start=-3.0,\n",
    "        end=10288434.0/2,\n",
    "        size=400000\n",
    "    ),\n",
    "    marker=dict(\n",
    "        color='#74a806'\n",
    "    ),\n",
    "    opacity=1\n",
    ")\n",
    "trace1 = go.Histogram(\n",
    "    x=df[\"Potato import quantity (tonnes)\"],\n",
    "    name='Potato import quantity (tonnes)',\n",
    "    xbins=dict(\n",
    "        start=-3.0,\n",
    "        end=10288434.0/2,\n",
    "        size=400000\n",
    "    ),\n",
    "    marker=dict(\n",
    "        color='#aacc63'\n",
    "    ),\n",
    "    opacity=1\n",
    ")\n",
    "data = [trace3, trace2, trace1]\n",
    "\n",
    "layout = go.Layout(\n",
    "    title = \"Frequency of Staple Food Imports: Maize, Wheat, and Potatoes\",\n",
    "     xaxis=dict(\n",
    "        title='Food Imports in tonnes'\n",
    "    ),\n",
    "    yaxis=dict(\n",
    "        title='Frequency'\n",
    "    ),\n",
    "    bargap=0.2,\n",
    "    bargroupgap=0.1\n",
    ")\n",
    "fig = go.Figure(data=data, layout=layout)\n",
    "py.iplot(fig, filename='styled histogram')"
   ]
  },
  {
   "cell_type": "code",
   "execution_count": 43,
   "metadata": {},
   "outputs": [
    {
     "data": {
      "text/html": [
       "<iframe id=\"igraph\" scrolling=\"no\" style=\"border:none;\" seamless=\"seamless\" src=\"https://plot.ly/~jshen1/260.embed\" height=\"525px\" width=\"100%\"></iframe>"
      ],
      "text/plain": [
       "<plotly.tools.PlotlyDisplay object>"
      ]
     },
     "execution_count": 43,
     "metadata": {},
     "output_type": "execute_result"
    }
   ],
   "source": [
    "trace1 = go.Scatter(\n",
    "    x = df[\"Maize import quantity (tonnes)\"],\n",
    "    y = df[\"2014 GHI\"],\n",
    "    mode='markers',\n",
    "    marker=dict(\n",
    "        color='#2d4201',\n",
    "        size = 10,\n",
    "        opacity = 0.75\n",
    "    ),\n",
    ")\n",
    "\n",
    "layout = go.Layout(\n",
    "    title = \"Relationship between Total Maize Imports and the Global Hunger Index Across Countries\",\n",
    "     xaxis=dict(\n",
    "        title='Maize Imports (tonnes)'\n",
    "    ),\n",
    "    yaxis=dict(\n",
    "        title='Global Hunger Index'\n",
    "    )\n",
    ")\n",
    "\n",
    "data = [trace1]\n",
    "fig = go.Figure(data = data, layout = layout)\n",
    "py.iplot(fig)"
   ]
  },
  {
   "cell_type": "code",
   "execution_count": 44,
   "metadata": {
    "scrolled": false
   },
   "outputs": [
    {
     "data": {
      "text/html": [
       "<iframe id=\"igraph\" scrolling=\"no\" style=\"border:none;\" seamless=\"seamless\" src=\"https://plot.ly/~jshen1/262.embed\" height=\"525px\" width=\"100%\"></iframe>"
      ],
      "text/plain": [
       "<plotly.tools.PlotlyDisplay object>"
      ]
     },
     "execution_count": 44,
     "metadata": {},
     "output_type": "execute_result"
    }
   ],
   "source": [
    "trace1 = go.Scatter(\n",
    "    x = df[\"Wheat import quantity (tonnes)\"],\n",
    "    y = df[\"2014 GHI\"],\n",
    "    mode='markers',\n",
    "    marker=dict(\n",
    "        color='#74a806',\n",
    "        size = 10,\n",
    "        opacity = 0.75\n",
    "    ),\n",
    ")\n",
    "\n",
    "layout = go.Layout(\n",
    "    title = \"Relationship between Total Wheat Imports and the Global Hunger Index Across Countries\",\n",
    "     xaxis=dict(\n",
    "        title='Wheat Imports (tonnes)'\n",
    "    ),\n",
    "    yaxis=dict(\n",
    "        title='Global Hunger Index'\n",
    "    )\n",
    ")\n",
    "\n",
    "data = [trace1]\n",
    "fig = go.Figure(data = data, layout = layout)\n",
    "py.iplot(fig)"
   ]
  },
  {
   "cell_type": "code",
   "execution_count": 45,
   "metadata": {},
   "outputs": [
    {
     "data": {
      "text/html": [
       "<iframe id=\"igraph\" scrolling=\"no\" style=\"border:none;\" seamless=\"seamless\" src=\"https://plot.ly/~jshen1/264.embed\" height=\"525px\" width=\"100%\"></iframe>"
      ],
      "text/plain": [
       "<plotly.tools.PlotlyDisplay object>"
      ]
     },
     "execution_count": 45,
     "metadata": {},
     "output_type": "execute_result"
    }
   ],
   "source": [
    "trace1 = go.Scatter(\n",
    "    x = df[\"Potato import quantity (tonnes)\"],\n",
    "    y = df[\"2014 GHI\"],\n",
    "    mode='markers',\n",
    "    marker=dict(\n",
    "        color='#aacc63',\n",
    "        size = 10,\n",
    "        opacity = .75\n",
    "    ),\n",
    ")\n",
    "\n",
    "layout = go.Layout(\n",
    "    title = \"Relationship between Total Potato Imports and the Global Hunger Index Across Countries\",\n",
    "     xaxis=dict(\n",
    "        title='Potato Imports (tonnes)'\n",
    "    ),\n",
    "    yaxis=dict(\n",
    "        title='Global Hunger Index'\n",
    "    )\n",
    ")\n",
    "\n",
    "data = [trace1]\n",
    "fig = go.Figure(data = data, layout = layout)\n",
    "py.iplot(fig)"
   ]
  },
  {
   "cell_type": "code",
   "execution_count": 46,
   "metadata": {},
   "outputs": [
    {
     "data": {
      "text/html": [
       "<iframe id=\"igraph\" scrolling=\"no\" style=\"border:none;\" seamless=\"seamless\" src=\"https://plot.ly/~jshen1/266.embed\" height=\"525px\" width=\"100%\"></iframe>"
      ],
      "text/plain": [
       "<plotly.tools.PlotlyDisplay object>"
      ]
     },
     "execution_count": 46,
     "metadata": {},
     "output_type": "execute_result"
    }
   ],
   "source": [
    "trace1 = go.Histogram(\n",
    "    x=df[\"2014 GHI\"],\n",
    "    xbins=dict(\n",
    "        start=-3.0,\n",
    "        end=70,\n",
    "        size=1\n",
    "    ),\n",
    "    marker=dict(\n",
    "        color='#5995f7'\n",
    "    ),\n",
    "    opacity=1\n",
    ")\n",
    "\n",
    "data = [trace1]\n",
    "layout = go.Layout(\n",
    "    barmode='overlay',\n",
    "    bargap=0.1,\n",
    "    title = \"Frequency of the Global Hunger Index\",\n",
    "     xaxis=dict(\n",
    "        title='Global Hunger Index'\n",
    "    ),\n",
    "    yaxis=dict(\n",
    "        title='Frequency'\n",
    "    )\n",
    ")\n",
    "fig = go.Figure(data=data, layout=layout)\n",
    "\n",
    "py.iplot(fig)"
   ]
  }
 ],
 "metadata": {
  "anaconda-cloud": {},
  "kernelspec": {
   "display_name": "Python 3",
   "language": "python",
   "name": "python3"
  },
  "language_info": {
   "codemirror_mode": {
    "name": "ipython",
    "version": 3
   },
   "file_extension": ".py",
   "mimetype": "text/x-python",
   "name": "python",
   "nbconvert_exporter": "python",
   "pygments_lexer": "ipython3",
   "version": "3.5.1"
  }
 },
 "nbformat": 4,
 "nbformat_minor": 2
}
