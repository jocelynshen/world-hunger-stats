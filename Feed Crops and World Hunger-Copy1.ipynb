{
 "cells": [
  {
   "cell_type": "code",
   "execution_count": 1,
   "metadata": {
    "collapsed": false
   },
   "outputs": [],
   "source": [
    "from itertools import combinations, chain\n",
    "import numpy as np\n",
    "import scipy\n",
    "import matplotlib.pyplot as plt\n",
    "import pandas as pd\n",
    "import seaborn as sns\n",
    "from sklearn.linear_model import LinearRegression, LogisticRegression\n",
    "from sklearn.metrics import accuracy_score, confusion_matrix, r2_score\n",
    "from sklearn.svm import SVC\n",
    "from scipy.stats import linregress\n",
    "from sklearn.datasets import load_digits\n",
    "from sklearn.datasets.samples_generator import make_blobs, make_moons, make_circles\n",
    "from sklearn.metrics import accuracy_score, confusion_matrix\n",
    "from sklearn.decomposition import PCA\n",
    "from scipy import stats\n",
    "from scipy.optimize import curve_fit\n",
    "from matplotlib import pylab\n",
    "import cufflinks as cf\n",
    "import plotly.plotly as py\n",
    "import plotly.graph_objs as go\n",
    "%matplotlib inline\n",
    "plt.style.use(\"fivethirtyeight\")"
   ]
  },
  {
   "cell_type": "code",
   "execution_count": 2,
   "metadata": {
    "collapsed": false,
    "scrolled": false
   },
   "outputs": [],
   "source": [
    "df = pd.read_csv(\"World_Hunger1.csv\")\n",
    "df = df.drop(['Unnamed: 16', 'Unnamed: 17'], axis = 1)\n",
    "df = df.dropna(axis = 0)\n",
    "df = df.replace(to_replace = \"<5\", value = 0)\n",
    "df[\"2014 GHI\"] = df[\"2014 GHI\"].astype(float)\n",
    "df[\"1990 GHI\"] = df[\"1990 GHI\"].astype(float)\n",
    "df[\"1995 GHI\"] = df[\"1995 GHI\"].astype(float)\n",
    "df[\"2000 GHI\"] = df[\"2000 GHI\"].astype(float)\n",
    "df[\"2005 GHI\"] = df[\"2005 GHI\"].astype(float)\n",
    "df[\"2013 GHI\"] = df[\"2013 GHI\"].astype(float)\n",
    "df[\"2015 GHI\"] = df[\"2015 GHI\"].astype(float)\n",
    "df[\"2016 GHI\"] = df[\"2016 GHI\"].astype(float)"
   ]
  },
  {
   "cell_type": "code",
   "execution_count": 3,
   "metadata": {
    "collapsed": false,
    "scrolled": true
   },
   "outputs": [
    {
     "name": "stdout",
     "output_type": "stream",
     "text": [
      "11\n"
     ]
    }
   ],
   "source": [
    "extreme_ghi = []\n",
    "for ghi in df[\"2014 GHI\"]:\n",
    "    if(ghi>=20):\n",
    "        extreme_ghi.append(ghi)\n",
    "print(len(extreme_ghi))"
   ]
  },
  {
   "cell_type": "markdown",
   "metadata": {},
   "source": [
    "# Global Hunger Index Metrics"
   ]
  },
  {
   "cell_type": "code",
   "execution_count": 5,
   "metadata": {
    "collapsed": false
   },
   "outputs": [
    {
     "data": {
      "text/html": [
       "<iframe id=\"igraph\" scrolling=\"no\" style=\"border:none;\" seamless=\"seamless\" src=\"https://plot.ly/~jshen1/270.embed\" height=\"525px\" width=\"100%\"></iframe>"
      ],
      "text/plain": [
       "<plotly.tools.PlotlyDisplay object>"
      ]
     },
     "execution_count": 5,
     "metadata": {},
     "output_type": "execute_result"
    }
   ],
   "source": [
    "trace3 = go.Histogram(\n",
    "    x=df[\"Under 5 Mortality Rate\"],\n",
    "    name='Under 5 Mortality Rate',\n",
    "    xbins=dict(\n",
    "        start=-3.0,\n",
    "        end=70,\n",
    "        size=2\n",
    "    ),\n",
    "    marker=dict(\n",
    "        color='#002f7c'\n",
    "    ),\n",
    "    opacity=1\n",
    ")\n",
    "trace2 = go.Histogram(\n",
    "    x=df[\"Proportion of Undernourished in the Population (%)\"],\n",
    "    name='Proportion of Undernourished in the Population (%)',\n",
    "    xbins=dict(\n",
    "        start=-3.0,\n",
    "        end=70,\n",
    "        size=2\n",
    "    ),\n",
    "    marker=dict(\n",
    "        color='#5995f7'\n",
    "    ),\n",
    "    opacity=1\n",
    ")\n",
    "trace1 = go.Histogram(\n",
    "    x=df[\"Prevalence of Underweight in Children Under 5 Years\"],\n",
    "    name='Prevalence of Underweight in Children Under 5 Years',\n",
    "    xbins=dict(\n",
    "        start=-3.0,\n",
    "        end=70,\n",
    "        size=2\n",
    "    ),\n",
    "    marker=dict(\n",
    "        color='#bed3f4'\n",
    "    ),\n",
    "    opacity=1\n",
    ")\n",
    "\n",
    "data = [trace1, trace2, trace3]\n",
    "layout = go.Layout(\n",
    "    barmode='overlay',\n",
    "    bargap=0.1,\n",
    "    title = \"Frequency of the Global Hunger Index Metrics\",\n",
    "     xaxis=dict(\n",
    "        title='Metrics of the Global Hunger Index'\n",
    "    ),\n",
    "    yaxis=dict(\n",
    "        title='Frequency'\n",
    "    )\n",
    ")\n",
    "fig = go.Figure(data=data, layout=layout)\n",
    "\n",
    "py.iplot(fig)"
   ]
  },
  {
   "cell_type": "code",
   "execution_count": 7,
   "metadata": {
    "collapsed": false,
    "scrolled": false
   },
   "outputs": [
    {
     "data": {
      "text/html": [
       "<iframe id=\"igraph\" scrolling=\"no\" style=\"border:none;\" seamless=\"seamless\" src=\"https://plot.ly/~jshen1/272.embed\" height=\"525px\" width=\"100%\"></iframe>"
      ],
      "text/plain": [
       "<plotly.tools.PlotlyDisplay object>"
      ]
     },
     "execution_count": 7,
     "metadata": {},
     "output_type": "execute_result"
    }
   ],
   "source": [
    "trace1 = go.Scatter(\n",
    "    x = df[\"Wheat import quantity (tonnes)\"],\n",
    "    y = df[\"2014 GHI\"],\n",
    "    mode='markers',\n",
    "    marker=dict(\n",
    "        color='#74a806',\n",
    "        size = 10,\n",
    "        opacity = 0.75\n",
    "    ),\n",
    ")\n",
    "\n",
    "layout = go.Layout(\n",
    "    title = \"Relationship between Total Wheat Imports and the Global Hunger Index Across Countries\",\n",
    "     xaxis=dict(\n",
    "        title='Wheat Imports (tonnes)'\n",
    "    ),\n",
    "    yaxis=dict(\n",
    "        title='Global Hunger Index'\n",
    "    )\n",
    ")\n",
    "\n",
    "data = [trace1]\n",
    "fig = go.Figure(data = data, layout = layout)\n",
    "py.iplot(fig)"
   ]
  }
 ],
 "metadata": {
  "anaconda-cloud": {},
  "kernelspec": {
   "display_name": "Python [Root]",
   "language": "python",
   "name": "Python [Root]"
  },
  "language_info": {
   "codemirror_mode": {
    "name": "ipython",
    "version": 3
   },
   "file_extension": ".py",
   "mimetype": "text/x-python",
   "name": "python",
   "nbconvert_exporter": "python",
   "pygments_lexer": "ipython3",
   "version": "3.5.2"
  }
 },
 "nbformat": 4,
 "nbformat_minor": 2
}
